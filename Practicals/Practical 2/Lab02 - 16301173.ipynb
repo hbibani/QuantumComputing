{
 "cells": [
  {
   "cell_type": "markdown",
   "id": "56cea8b4",
   "metadata": {},
   "source": [
    "# LAB 2\n",
    "\n",
    " **Name**: Heja Bibani  \n",
    " **Student Number**: 16301173"
   ]
  },
  {
   "cell_type": "markdown",
   "id": "77799171",
   "metadata": {},
   "source": [
    "# TASK 2\n",
    " Use three matrices A, B, and C as an example, show that matrix multiplication satisfies distributivity on the right: (A+B)C = AC + BC. This should be verified by both manual calculation and Python code. The three matrices you pick should be different from the ones used in the Jupyter NB accompanying our lecture. "
   ]
  },
  {
   "cell_type": "markdown",
   "id": "3a6fa97c",
   "metadata": {},
   "source": [
    "### 2.1 Use Markdown cells and Latex to include the manual calculation for the above."
   ]
  },
  {
   "cell_type": "markdown",
   "id": "bbd54db2",
   "metadata": {},
   "source": [
    " \n",
    "\n",
    "$$\n",
    "A=\\begin{bmatrix}\n",
    "    2 & 3 \\\\\n",
    "    4 & 5 \\\\\n",
    "\\end{bmatrix}, \n",
    "B=\\begin{bmatrix}\n",
    "    3 & 0\\\\\n",
    "    1 & 5\n",
    "\\end{bmatrix}, \n",
    "C=\\begin{bmatrix}\n",
    "    1 & 2\\\\\n",
    "    2 & 3\\\\\n",
    "\\end{bmatrix}\n",
    "$$\n",
    "\n",
    "\n",
    "$$\n",
    "\\begin{align*}\n",
    "A(B+C)&=\\begin{bmatrix}\n",
    "    2 & 3 \\\\\n",
    "    4 & 5 \n",
    "\\end{bmatrix}\\times\n",
    "\\left(\\begin{bmatrix}\n",
    "    3 & 0 \\\\\n",
    "    1 & 5\n",
    "\\end{bmatrix}+\n",
    "\\begin{bmatrix}\n",
    "    1 & 2 \\\\\n",
    "    2 & 3\n",
    "\\end{bmatrix}\\right)=\n",
    "\\begin{bmatrix}\n",
    "    2 & 3 \\\\\n",
    "    4 & 5 \\\\\n",
    "\\end{bmatrix}\\times\n",
    "\\begin{bmatrix}\n",
    "    4 & 2 \\\\\n",
    "    3 & 8\n",
    "\\end{bmatrix}\\\\\n",
    "&=\n",
    "\\begin{bmatrix}\n",
    "    2 \\times 4 + 3 \\times 3 & 2 \\times 2 + 3 \\times 8 \\\\\n",
    "    4 \\times 4 + 5 \\times 3 & 4 \\times 2 + 5 \\times 8\n",
    "\\end{bmatrix}=\n",
    "\\begin{bmatrix}\n",
    "    17 & 28 \\\\\n",
    "    31 & 48\n",
    "\\end{bmatrix}\n",
    "\\end{align*}\n",
    "$$\n",
    "\n",
    "is equivalent to\n",
    "\n",
    "$$\n",
    "\\begin{align*}\n",
    "AB+AC \n",
    "&= \\begin{bmatrix}\n",
    "    2 & 3 \\\\\n",
    "    4 & 5 \n",
    "\\end{bmatrix}\\times\n",
    "\\begin{bmatrix}\n",
    "    3 & 0 \\\\\n",
    "    1 & 5\n",
    "\\end{bmatrix}+\n",
    "\\begin{bmatrix}\n",
    "    2 & 3 \\\\\n",
    "    4 & 5 \n",
    "\\end{bmatrix}\\times\n",
    "\\begin{bmatrix}\n",
    "    1 & 2\\\\\n",
    "    2 & 3\n",
    "\\end{bmatrix}\n",
    "=\n",
    "\\begin{bmatrix}\n",
    "    2 \\times 3 + 3 \\times 1 & 2 \\times 0 + 3 \\times 5 \\\\\n",
    "    4 \\times 3 + 5 \\times 1 & 4 \\times 0 + 5 \\times 5\n",
    "\\end{bmatrix}+\n",
    "\\begin{bmatrix}\n",
    "    2 \\times 1 + 3 \\times 2 & 2 \\times 2 + 3 \\times 3 \\\\\n",
    "    4 \\times 1 + 5 \\times 2 & 4 \\times 2 + 5 \\times 3\n",
    "\\end{bmatrix}\\\\\n",
    "&=\n",
    "\\begin{bmatrix}\n",
    "    9 & 15\\\\\n",
    "    17 & 25\n",
    "\\end{bmatrix}+\n",
    "\\begin{bmatrix}\n",
    "    8 & 13\\\\\n",
    "    14 & 23\n",
    "\\end{bmatrix}=\n",
    "\\begin{bmatrix}\n",
    "    17 & 28\\\\\n",
    "    31 & 48\n",
    "\\end{bmatrix}\n",
    "\\end{align*}\n",
    "$$"
   ]
  },
  {
   "cell_type": "markdown",
   "id": "d877113f",
   "metadata": {},
   "source": [
    "***As we can see from the above the two calculations are equivalent and thus it meets the distributive law.*** Thus $A(B+C)$ = $AB+AC$. "
   ]
  },
  {
   "cell_type": "markdown",
   "id": "56fba3c0",
   "metadata": {},
   "source": [
    "### 2.2 Use Markdown cells and Code cells to include the Python code for the above. "
   ]
  },
  {
   "cell_type": "code",
   "execution_count": 73,
   "id": "27fd021b",
   "metadata": {},
   "outputs": [
    {
     "data": {
      "text/plain": [
       "array([[1, 2],\n",
       "       [2, 3]])"
      ]
     },
     "execution_count": 73,
     "metadata": {},
     "output_type": "execute_result"
    }
   ],
   "source": [
    "import numpy as np\n",
    "\n",
    "A = np.array([[2, 3], [4, 5]])\n",
    "A\n",
    "B = np.array([[3, 0], [1, 5]])\n",
    "B\n",
    "C = np.array([[1, 2], [2, 3]])\n",
    "C"
   ]
  },
  {
   "cell_type": "markdown",
   "id": "2cf6080b",
   "metadata": {},
   "source": [
    "The calculation for $A(B+C)$:"
   ]
  },
  {
   "cell_type": "code",
   "execution_count": 74,
   "id": "0eda736d",
   "metadata": {},
   "outputs": [
    {
     "data": {
      "text/plain": [
       "array([[17, 28],\n",
       "       [31, 48]])"
      ]
     },
     "execution_count": 74,
     "metadata": {},
     "output_type": "execute_result"
    }
   ],
   "source": [
    "D1 = A.dot(B+C)\n",
    "D1"
   ]
  },
  {
   "cell_type": "markdown",
   "id": "c38ae85d",
   "metadata": {},
   "source": [
    " is equivalent to $AB+AC$:"
   ]
  },
  {
   "cell_type": "code",
   "execution_count": 75,
   "id": "d64aa4bd",
   "metadata": {},
   "outputs": [
    {
     "data": {
      "text/plain": [
       "array([[17, 28],\n",
       "       [31, 48]])"
      ]
     },
     "execution_count": 75,
     "metadata": {},
     "output_type": "execute_result"
    }
   ],
   "source": [
    "D2 = A.dot(B) + A.dot(C)\n",
    "D2"
   ]
  },
  {
   "cell_type": "markdown",
   "id": "ff9d78f4",
   "metadata": {},
   "source": [
    " We notice that the calcuation are identical and produce the same results."
   ]
  },
  {
   "cell_type": "markdown",
   "id": "6e382135",
   "metadata": {},
   "source": [
    "# TASK 3\n",
    "\n",
    " Use three matrices A, B, and C as an example, show that matrix multiplication satisfies associativity: (AB)C = A(BC). This  should be verified by both manual calculation and Python code. The three matrices you pick should be different from the ones used in the Jupyter NB accompanying our lecture."
   ]
  },
  {
   "cell_type": "markdown",
   "id": "18f3b0e7",
   "metadata": {},
   "source": [
    "### 3.1 Use Markdown cells and Latex to include the manual calculation for the above."
   ]
  },
  {
   "cell_type": "markdown",
   "id": "e9e361e3",
   "metadata": {},
   "source": [
    "$$\n",
    "A=\\begin{bmatrix}\n",
    "    2 & 3 \\\\\n",
    "    4 & 5 \\\\\n",
    "\\end{bmatrix}, \n",
    "B=\\begin{bmatrix}\n",
    "    3 & 0\\\\\n",
    "    1 & 5\n",
    "\\end{bmatrix}, \n",
    "C=\\begin{bmatrix}\n",
    "    1 & 2\\\\\n",
    "    2 & 3\\\\\n",
    "\\end{bmatrix}\n",
    "$$\n",
    "\n",
    "\n",
    "\n",
    "$$\n",
    "\\begin{align*}\n",
    "A(BC)&=\\begin{bmatrix}\n",
    "    2 & 3 \\\\\n",
    "    4 & 5 \n",
    "\\end{bmatrix}\\times\n",
    "\\left(\\begin{bmatrix}\n",
    "    3 & 0 \\\\\n",
    "    1 & 5\n",
    "\\end{bmatrix}\\times\n",
    "\\begin{bmatrix}\n",
    "    1 & 2 \\\\\n",
    "    2 & 3\n",
    "\\end{bmatrix}\\right)\n",
    "=\n",
    "\\begin{bmatrix}\n",
    "    2 & 3 \\\\\n",
    "    4 & 5 \n",
    "\\end{bmatrix}\\times\n",
    "\\left(\\begin{bmatrix}\n",
    "    3 \\times 1 + 0 \\times 2 & 3 \\times 2 + 0 \\times 3 \\\\\n",
    "    1 \\times 1 + 5 \\times 2 & 1 \\times 2 + 5 \\times 3\n",
    "\\end{bmatrix}\\right)\n",
    "\\end{align*}\n",
    "$$\n",
    "\n",
    "$$\n",
    "\\begin{align*}\n",
    "=\\begin{bmatrix}\n",
    "    2 & 3 \\\\\n",
    "    4 & 5 \n",
    "\\end{bmatrix}\\times\n",
    "\\begin{bmatrix}\n",
    "    3 & 6 \\\\\n",
    "    11 & 17\n",
    "\\end{bmatrix}\n",
    "=\n",
    "\\begin{bmatrix}\n",
    "    2 \\times 3 + 3 \\times 11 & 2 \\times 6 + 3 \\times 17 \\\\\n",
    "    4 \\times 3 + 5 \\times 11 & 4 \\times 6 + 5 \\times 17\n",
    "\\end{bmatrix}\\\n",
    "\\end{align*}\n",
    "$$\n",
    "\n",
    "$$\n",
    "=\\begin{bmatrix}\n",
    "    39 & 63 \\\\\n",
    "    67 & 109 \n",
    "\\end{bmatrix}\n",
    "$$\n",
    "\n",
    "\n",
    "\n",
    "$$\n",
    "\\begin{align*}\n",
    "(AB)C&=\\left(\\begin{bmatrix}\n",
    "    2 & 3 \\\\\n",
    "    4 & 5 \n",
    "\\end{bmatrix}\\times\n",
    "\\begin{bmatrix}\n",
    "    3 & 0 \\\\\n",
    "    1 & 5\n",
    "\\end{bmatrix}\\right)\\times\n",
    "\\begin{bmatrix}\n",
    "    1 & 2 \\\\\n",
    "    2 & 3\n",
    "\\end{bmatrix}\n",
    "=\n",
    "\\left(\\begin{bmatrix}\n",
    "    2 \\times 3 + 3 \\times 1 & 2 \\times 0 + 3 \\times 5 \\\\\n",
    "    4 \\times 3 + 5 \\times 1 & 4 \\times 0 + 5 \\times 5\n",
    "\\end{bmatrix}\\right)\\times\n",
    "\\begin{bmatrix}\n",
    "    1 & 2 \\\\\n",
    "    2 & 3 \n",
    "\\end{bmatrix}\n",
    "\\end{align*}\n",
    "$$\n",
    "\n",
    "$$\n",
    "\\begin{align*}\n",
    "=\\begin{bmatrix}\n",
    "    9 & 15 \\\\\n",
    "    17 & 25 \n",
    "\\end{bmatrix}\\times\n",
    "\\begin{bmatrix}\n",
    "    1 & 2 \\\\\n",
    "    2 & 3\n",
    "\\end{bmatrix}\n",
    "=\n",
    "\\begin{bmatrix}\n",
    "    9 \\times 1 + 15 \\times 2 & 9 \\times 2 + 15 \\times 3 \\\\\n",
    "    17 \\times 1 + 25 \\times 2 & 17 \\times 2 + 25 \\times 3\n",
    "\\end{bmatrix}\\\n",
    "\\end{align*}\n",
    "$$\n",
    "\n",
    "$$\n",
    "=\\begin{bmatrix}\n",
    "    39 & 63 \\\\\n",
    "    67 & 109 \n",
    "\\end{bmatrix}\n",
    "$$\n",
    "\n",
    "\n",
    "\n"
   ]
  },
  {
   "cell_type": "markdown",
   "id": "4f63a469",
   "metadata": {},
   "source": [
    "***As we can see from the above the two calculations are equivalent and thus it meets the associative law.*** Thus $A(BC)$ = $(AB)C$. "
   ]
  },
  {
   "cell_type": "markdown",
   "id": "8b90dd9c",
   "metadata": {},
   "source": [
    "### 3.2 Use Markdown cells and Code cells to include the Python code for the above."
   ]
  },
  {
   "cell_type": "markdown",
   "id": "e6536415",
   "metadata": {},
   "source": [
    " The calculation for $A(BC)$:"
   ]
  },
  {
   "cell_type": "code",
   "execution_count": 76,
   "id": "5b17744a",
   "metadata": {},
   "outputs": [
    {
     "data": {
      "text/plain": [
       "array([[ 39,  63],\n",
       "       [ 67, 109]])"
      ]
     },
     "execution_count": 76,
     "metadata": {},
     "output_type": "execute_result"
    }
   ],
   "source": [
    "E1 =  A.dot(B.dot(C))\n",
    "E1"
   ]
  },
  {
   "cell_type": "markdown",
   "id": "59e3a17d",
   "metadata": {},
   "source": [
    " We see in the previous that the calculation matches our answer in task 3.1"
   ]
  },
  {
   "cell_type": "markdown",
   "id": "f5be1467",
   "metadata": {},
   "source": [
    " The calculation for $(AB)C$:"
   ]
  },
  {
   "cell_type": "code",
   "execution_count": 77,
   "id": "b21b7555",
   "metadata": {},
   "outputs": [
    {
     "data": {
      "text/plain": [
       "array([[ 39,  63],\n",
       "       [ 67, 109]])"
      ]
     },
     "execution_count": 77,
     "metadata": {},
     "output_type": "execute_result"
    }
   ],
   "source": [
    "E2 = (A.dot(B)).dot(C)\n",
    "E2"
   ]
  },
  {
   "cell_type": "markdown",
   "id": "23a32553",
   "metadata": {},
   "source": [
    " We see in the previous that the calculation matches our answer in task 3.1 And also matches the answer in the previous calculation.  Thus $A(BC)$ = $(AB)C$. "
   ]
  },
  {
   "cell_type": "markdown",
   "id": "70f8d215",
   "metadata": {},
   "source": [
    "# TASK 4\n",
    " Use two matrices A and B as an example, show that matrix multiplication may not satisfy commutativity: AB = BA. This should be shown by both manual calculation and Python code. The three matrices you pick should be different from the ones used in the Jupyter NB accompanying our lecture."
   ]
  },
  {
   "cell_type": "markdown",
   "id": "ff0d8630",
   "metadata": {},
   "source": [
    "### 4.1 Use Markdown cells and Latex to include the manual calculation for the above."
   ]
  },
  {
   "cell_type": "markdown",
   "id": "6f81b8b9",
   "metadata": {},
   "source": [
    "$$\n",
    "A=\\begin{bmatrix}\n",
    "    2 & 3 \\\\\n",
    "    4 & 5 \\\\\n",
    "\\end{bmatrix}, \n",
    "B=\\begin{bmatrix}\n",
    "    3 & 0\\\\\n",
    "    1 & 5\n",
    "\\end{bmatrix}\n",
    "$$\n",
    "\n",
    "$$\n",
    "\\begin{align*}\n",
    "AB&=\\begin{bmatrix}\n",
    "    2 & 3 \\\\\n",
    "    4 & 5 \n",
    "\\end{bmatrix}\\times\n",
    "\\begin{bmatrix}\n",
    "    3 & 0 \\\\\n",
    "    1 & 5\n",
    "\\end{bmatrix}\\\n",
    "=\n",
    "\\begin{bmatrix}\n",
    "    2 \\times 3 + 3 \\times 1 & 2 \\times 0 + 3 \\times 5 \\\\\n",
    "    4 \\times 3 + 5 \\times 1 & 4 \\times 0 + 5 \\times 5\n",
    "\\end{bmatrix}\n",
    "\\end{align*}\n",
    "$$\n",
    "$$\n",
    "\\begin{align*}\n",
    "=\\begin{bmatrix}\n",
    "    9 & 15 \\\\\n",
    "    17 & 25 \n",
    "\\end{bmatrix}\n",
    "\\end{align*}\n",
    "$$\n",
    "\n",
    "\n",
    "\n",
    "\n",
    "$$\n",
    "\\begin{align*}\n",
    "BA&=\\begin{bmatrix}\n",
    "    3 & 0 \\\\\n",
    "    1 & 5\n",
    "\\end{bmatrix}\\times\n",
    "\\begin{bmatrix}\n",
    "    2 & 3 \\\\\n",
    "    4 & 5 \n",
    "\\end{bmatrix}\n",
    "=\n",
    "\\begin{bmatrix}\n",
    "    3 \\times 2 + 0 \\times 4 & 3 \\times 3 + 0 \\times 5 \\\\\n",
    "    1 \\times 2 + 5 \\times 4 & 1 \\times 3 + 5 \\times 5\n",
    "\\end{bmatrix}\n",
    "\\end{align*}\n",
    "$$\n",
    "$$\n",
    "\\begin{align*}\n",
    "=\\begin{bmatrix}\n",
    "    6 & 9 \\\\\n",
    "    22 & 28 \n",
    "\\end{bmatrix}\n",
    "\\end{align*}\n",
    "$$\n",
    "\n",
    "Therefore:\n",
    "$$\n",
    "AB \\neq BA\n",
    "$$"
   ]
  },
  {
   "cell_type": "markdown",
   "id": "53d748b5",
   "metadata": {},
   "source": [
    "***As we can see from the above the two calculations are not equivalent and thus it does not meet the commutative law.*** Thus $AB$ $\\neq$ $AB$. "
   ]
  },
  {
   "cell_type": "markdown",
   "id": "35083b32",
   "metadata": {},
   "source": [
    "### 4.2 Use Markdown cells and Code cells to include the Python code for the above."
   ]
  },
  {
   "cell_type": "markdown",
   "id": "ddf0f95e",
   "metadata": {},
   "source": [
    " The calculation for $AB$:"
   ]
  },
  {
   "cell_type": "code",
   "execution_count": 78,
   "id": "1755abfa",
   "metadata": {},
   "outputs": [
    {
     "data": {
      "text/plain": [
       "array([[ 9, 15],\n",
       "       [17, 25]])"
      ]
     },
     "execution_count": 78,
     "metadata": {},
     "output_type": "execute_result"
    }
   ],
   "source": [
    "F1 = A.dot(B)\n",
    "F1"
   ]
  },
  {
   "cell_type": "markdown",
   "id": "55c00825",
   "metadata": {},
   "source": [
    "We notice that this value equals the calculation in section 4.1\n",
    "\n",
    " The calculation for $BA$:"
   ]
  },
  {
   "cell_type": "code",
   "execution_count": 79,
   "id": "c012c895",
   "metadata": {},
   "outputs": [
    {
     "data": {
      "text/plain": [
       "array([[ 6,  9],\n",
       "       [22, 28]])"
      ]
     },
     "execution_count": 79,
     "metadata": {},
     "output_type": "execute_result"
    }
   ],
   "source": [
    "F2 = B.dot(A)\n",
    "F2"
   ]
  },
  {
   "cell_type": "markdown",
   "id": "d4e8890f",
   "metadata": {},
   "source": [
    " We notice that this equals the calculation in section 4.1. And thus demonstrates that it does not meet the commutative law: $AB$ $\\neq$ $AB$. "
   ]
  },
  {
   "cell_type": "markdown",
   "id": "8ff6f037",
   "metadata": {},
   "source": [
    "# TASK 5\n",
    "\n",
    "Use Python code to find the inverse of the matrix  $\\begin{bmatrix}2 & 3 \\\\4 & 5 \\\\\\end{bmatrix}$ and print the result."
   ]
  },
  {
   "cell_type": "code",
   "execution_count": 80,
   "id": "124ef719",
   "metadata": {},
   "outputs": [
    {
     "data": {
      "text/plain": [
       "array([[2, 3],\n",
       "       [4, 5]])"
      ]
     },
     "execution_count": 80,
     "metadata": {},
     "output_type": "execute_result"
    }
   ],
   "source": [
    "A"
   ]
  },
  {
   "cell_type": "code",
   "execution_count": 81,
   "id": "b14e083e",
   "metadata": {},
   "outputs": [],
   "source": [
    "# Avoid inaccurate floating point values during inverse calculation\n",
    "# See https://stackoverflow.com/questions/24537791/numpy-matrix-inversion-rounding-errors\n",
    "np.set_printoptions(suppress=True)"
   ]
  },
  {
   "cell_type": "markdown",
   "id": "94db08f9",
   "metadata": {},
   "source": [
    " We calculate the inverse in this section."
   ]
  },
  {
   "cell_type": "code",
   "execution_count": 82,
   "id": "15856e91",
   "metadata": {},
   "outputs": [
    {
     "data": {
      "text/plain": [
       "array([[-2.5,  1.5],\n",
       "       [ 2. , -1. ]])"
      ]
     },
     "execution_count": 82,
     "metadata": {},
     "output_type": "execute_result"
    }
   ],
   "source": [
    "A_inv = np.linalg.inv(A)\n",
    "A_inv"
   ]
  },
  {
   "cell_type": "markdown",
   "id": "573bd185",
   "metadata": {},
   "source": [
    " We check to see if multiplying the inverse brings the identity element with $A^{-1} \\times A$."
   ]
  },
  {
   "cell_type": "code",
   "execution_count": 83,
   "id": "ca42e32d",
   "metadata": {},
   "outputs": [
    {
     "data": {
      "text/plain": [
       "array([[1., 0.],\n",
       "       [0., 1.]])"
      ]
     },
     "execution_count": 83,
     "metadata": {},
     "output_type": "execute_result"
    }
   ],
   "source": [
    "A_inv.dot(A)"
   ]
  },
  {
   "cell_type": "markdown",
   "id": "8fed5a98",
   "metadata": {},
   "source": [
    " We check to see if the identity element can be generated by doing the calculation with $A \\times A^{-1}$."
   ]
  },
  {
   "cell_type": "code",
   "execution_count": 84,
   "id": "2c795db6",
   "metadata": {},
   "outputs": [
    {
     "data": {
      "text/plain": [
       "array([[1., 0.],\n",
       "       [0., 1.]])"
      ]
     },
     "execution_count": 84,
     "metadata": {},
     "output_type": "execute_result"
    }
   ],
   "source": [
    "A.dot(A_inv)"
   ]
  },
  {
   "cell_type": "markdown",
   "id": "0d20c5a0",
   "metadata": {},
   "source": [
    " We have noted in the above that we have found the inverse of A and it meets the criteria that if multiplied with the inverse and vice versa, the identity element will be generated. "
   ]
  },
  {
   "cell_type": "markdown",
   "id": "837c892f",
   "metadata": {},
   "source": [
    " # TASK 6"
   ]
  },
  {
   "cell_type": "markdown",
   "id": "42d2b18e",
   "metadata": {},
   "source": [
    " Create a QuantumCircuit with a 1-qubit input and no bit output.  Initiaize it's qubit `0` to $\\frac{1}{3} |0\\rangle + \\frac{2\\sqrt{2}}{3} |1\\rangle$. Then, apply X-gate to qubit `0`.\n",
    " \n",
    " The X-gate is represented by the following matrix:\n",
    "\n",
    "$$ X = \\begin{bmatrix} 0 & 1 \\\\ 1 & 0 \\end{bmatrix} $$\n",
    "\n",
    "To see the effect a gate has on a qubit, we simply multiply the qubit’s statevector by the gate. We can see that the X-gate switches the two amplitudes of the state vector:\n",
    "\n",
    "$$ X\\begin{bmatrix} a \\\\ b \\end{bmatrix} = \\begin{bmatrix} 0 & 1 \\\\ 1 & 0 \\end{bmatrix}\\begin{bmatrix} a \\\\ b \\end{bmatrix} = \\begin{bmatrix} b \\\\ a \\end{bmatrix} $$\n"
   ]
  },
  {
   "cell_type": "markdown",
   "id": "f28fa20b",
   "metadata": {},
   "source": [
    "### 6.1 Draw the above circuit."
   ]
  },
  {
   "cell_type": "markdown",
   "id": "bfba3f65",
   "metadata": {},
   "source": [
    " We import the necessary libraries to ensure everything works."
   ]
  },
  {
   "cell_type": "code",
   "execution_count": 85,
   "id": "15ac4abe",
   "metadata": {},
   "outputs": [],
   "source": [
    "import numpy as np\n",
    "from qiskit import *\n",
    "from qiskit.providers.aer import StatevectorSimulator\n",
    "from math import sqrt\n",
    "# We need this to embed the image produced into the notebook\n",
    "%matplotlib inline"
   ]
  },
  {
   "cell_type": "markdown",
   "id": "429705c8",
   "metadata": {},
   "source": [
    " We initialize the quantum circuit to the state $\\frac{1}{3} |0\\rangle + \\frac{2\\sqrt{2}}{3} |1\\rangle$. Then, apply X-gate to qubit `0`. The circuit is then consequently drawn."
   ]
  },
  {
   "cell_type": "code",
   "execution_count": 86,
   "id": "108776b4",
   "metadata": {},
   "outputs": [
    {
     "data": {
      "image/png": "[encoded data removed]",
      "text/plain": [
       "<Figure size 253.926x84.28 with 1 Axes>"
      ]
     },
     "execution_count": 86,
     "metadata": {},
     "output_type": "execute_result"
    }
   ],
   "source": [
    "qc = QuantumCircuit(1)\n",
    "# Create an initial state\n",
    "initial_state = [1/3, sqrt(8)/3]\n",
    "# Initialise qubit 0 with this state\n",
    "qc.initialize(initial_state, 0)\n",
    "qc.x(0)\n",
    "qc.draw()"
   ]
  },
  {
   "cell_type": "markdown",
   "id": "48efbc96",
   "metadata": {},
   "source": [
    "### 6.2 Use a StatevectorSimulator to run the above circuit with one shot only. After the run, obtain the state vector of qubit `0`  and print it."
   ]
  },
  {
   "cell_type": "markdown",
   "id": "a7c3e306",
   "metadata": {},
   "source": [
    " The X-gate is represented by the following matrix:\n",
    "\n",
    "$$ X = \\begin{bmatrix} 0 & 1 \\\\ 1 & 0 \\end{bmatrix} $$\n",
    "\n",
    "The initial qubit was in state: \n",
    "\n",
    "$$\\begin{bmatrix} \\frac{1}{3} \\\\  \\frac{2\\sqrt{2}}{3} \\end{bmatrix} $$\n",
    "\n",
    "Applying the gate:\n",
    "\n",
    "$$\\begin{bmatrix} 0 & 1 \\\\ 1 & 0 \\end{bmatrix} \\times \\begin{bmatrix} \\frac{1}{3} \\\\  \\frac{2\\sqrt{2}}{3}  \\end{bmatrix} = \\begin{bmatrix} \\frac{2\\sqrt{2}}{3}  \\\\  \\frac{1}{3} \\end{bmatrix}  $$ \n",
    "\n",
    "This is demonstrated in the output of the statevector below, the qubit will be in the following state after applying the X-gate:\n",
    "  \n",
    "$\\frac{2\\sqrt{2}}{3} |0\\rangle + \\frac{1}{3} |1\\rangle$\n"
   ]
  },
  {
   "cell_type": "code",
   "execution_count": 87,
   "id": "2e4dc281",
   "metadata": {},
   "outputs": [
    {
     "name": "stdout",
     "output_type": "stream",
     "text": [
      "Statevector([0.94280904+0.j, 0.33333333+0.j],\n",
      "            dims=(2,))\n"
     ]
    }
   ],
   "source": [
    "# Alternatively: simulator = Aer.get_backend('statevector_simulator')\n",
    "simulator = StatevectorSimulator()\n",
    "\n",
    "# Print zero instead of tiny floating point values\n",
    "np.set_printoptions(suppress=True)\n",
    "job = execute(qc, backend=simulator, shots=1)\n",
    "v = job.result().get_statevector()\n",
    "v"
   ]
  },
  {
   "cell_type": "markdown",
   "id": "e3939be9",
   "metadata": {},
   "source": [
    "# TASK 7"
   ]
  },
  {
   "cell_type": "markdown",
   "id": "9fce4c70",
   "metadata": {},
   "source": [
    " Create a QuantumCircuit with a 1-qubit input and a 1-bit output. Initialize its qubit 0 with the state of  $-\\frac{1}{3} |0\\rangle + \\frac{2\\sqrt{2}}{3} |1\\rangle$. Then, apply X-gate, Z-gate, and H-gate to qubit `0` (NB: Follow this order exactly). Finally measure qubit `0`."
   ]
  },
  {
   "cell_type": "markdown",
   "id": "46244d60",
   "metadata": {},
   "source": [
    "### 7.1 Draw the above circuit."
   ]
  },
  {
   "cell_type": "code",
   "execution_count": 88,
   "id": "8d11d6cf",
   "metadata": {},
   "outputs": [
    {
     "data": {
      "image/png": "[encoded data removed]",
      "text/plain": [
       "<Figure size 434.526x144.48 with 1 Axes>"
      ]
     },
     "execution_count": 88,
     "metadata": {},
     "output_type": "execute_result"
    }
   ],
   "source": [
    "qc2 = QuantumCircuit(1,1)\n",
    "# Create an initial state\n",
    "initial_state = [-1/3, sqrt(8)/3]\n",
    "# Initialise qubit 0 with this state\n",
    "qc2.initialize(initial_state, 0)\n",
    "qc2.x(0)\n",
    "qc2.z(0)\n",
    "qc2.h(0)\n",
    "qc2.measure(0,0)\n",
    "qc2.draw()\n"
   ]
  },
  {
   "cell_type": "markdown",
   "id": "e94b091b",
   "metadata": {},
   "source": [
    "### 7.2 Use a QasmSimulator to run the above circuit with 2000 shots, and then plot the results with a histogram."
   ]
  },
  {
   "cell_type": "code",
   "execution_count": 93,
   "id": "131edacb",
   "metadata": {
    "scrolled": false
   },
   "outputs": [
    {
     "name": "stdout",
     "output_type": "stream",
     "text": [
      "<class 'qiskit.result.counts.Counts'>\n",
      "\n",
      " The counts for different outputs are: {'0': 1629, '1': 371}\n"
     ]
    },
    {
     "data": {
      "image/png": "[encoded data removed]",
      "text/plain": [
       "<Figure size 504x360 with 1 Axes>"
      ]
     },
     "execution_count": 93,
     "metadata": {},
     "output_type": "execute_result"
    }
   ],
   "source": [
    "from qiskit.providers.aer import QasmSimulator\n",
    "from qiskit.visualization import plot_histogram\n",
    "from qiskit.tools import job_monitor\n",
    "\n",
    "simulator1 = QasmSimulator()\n",
    "job = execute(qc2, backend=simulator1, shots=2000)\n",
    "\n",
    "# Call result() to obtain the result\n",
    "result = job.result()\n",
    "# Call get_counts() to obtain the counts of different outputs\n",
    "counts = result.get_counts(qc2)\n",
    "\n",
    "print(type(counts))\n",
    "\n",
    "# Print the counts of different outputs\n",
    "print(\"\\n The counts for different outputs are:\", counts)\n",
    "# Plot the histogram\n",
    "# Need: from qiskit.visualization import plot_histogram\n",
    "plot_histogram(counts)"
   ]
  },
  {
   "cell_type": "markdown",
   "id": "c17e46b7",
   "metadata": {},
   "source": [
    "### 7.3 According to your histogram, what is the approximate probabilities of obtaining 0 and 1 respectively?"
   ]
  },
  {
   "cell_type": "markdown",
   "id": "cc28f743",
   "metadata": {},
   "source": [
    " The probability of getting 0 is aproximately 0.815 and the probability of getting 1 is 0.185."
   ]
  },
  {
   "cell_type": "markdown",
   "id": "33024f52",
   "metadata": {},
   "source": [
    "### 7.4 Use a Markdown cell to include manual calculation on the state of qubit `0` after those three gates are applied."
   ]
  },
  {
   "cell_type": "markdown",
   "id": "e48998f2",
   "metadata": {},
   "source": [
    " The X-gate, Z and H gates are represented by the following matrix:\n",
    "\n",
    "$$ X = \\begin{bmatrix} 0 & 1 \\\\ 1 & 0 \\end{bmatrix} Z = \\begin{bmatrix} 1 & 0 \\\\ 0 & -1 \\end{bmatrix}  H = \\frac{1}{\\sqrt{2}} \\begin{bmatrix} 1 & 1 \\\\ 1 & -1 \\end{bmatrix} $$\n",
    "\n",
    "The initial qubit was in state: \n",
    "\n",
    "$$\\begin{bmatrix} -\\frac{1}{3} \\\\  \\frac{2\\sqrt{2}}{3} \\end{bmatrix} $$\n",
    "\n",
    "\n",
    "The total calculation would be of the equivalent:\n",
    "\n",
    "$$\n",
    "\\begin{align*}\n",
    "H \\times (Z \\times ( X \\times |0\\rangle ) )= H ( Z ( X |0\\rangle ) ) \n",
    "&= \\frac{1}{\\sqrt{2}} \\begin{bmatrix} 1 & 1 \\\\ 1 & -1 \\end{bmatrix} \\left( \\begin{bmatrix} 1 & 0 \\\\ 0 & -1 \\end{bmatrix} \\left( \\begin{bmatrix} 0 & 1 \\\\ 1 & 0 \\end{bmatrix}\\begin{bmatrix} -\\frac{1}{3} \\\\  \\frac{2\\sqrt{2}}{3} \\end{bmatrix}\\right) \\right)\\\\\n",
    "\\end{align*}\n",
    "$$\n",
    "\n",
    "\n",
    "Applying the X-gate:\n",
    "\n",
    "$$\\begin{bmatrix} 0 & 1 \\\\ 1 & 0 \\end{bmatrix} \\times \\begin{bmatrix} -\\frac{1}{3} \\\\  \\frac{2\\sqrt{2}}{3} \\end{bmatrix} = \\begin{bmatrix} \\frac{2\\sqrt{2}}{3} \\\\ -\\frac{1}{3} \\end{bmatrix}  $$ \n",
    "\n",
    "Applying the Z-gate:\n",
    "\n",
    "$$\\begin{bmatrix} 1 & 0 \\\\ 0 & -1 \\end{bmatrix}  \\times \\begin{bmatrix} \\frac{2\\sqrt{2}}{3} \\\\ -\\frac{1}{3} \\end{bmatrix} = \\begin{bmatrix} \\frac{2\\sqrt{2}}{3} \\\\ \\frac{1}{3} \\end{bmatrix}  $$ \n",
    "\n",
    "Applying the H-Gate\n",
    "\n",
    "\n",
    "\n",
    "$$\\frac{1}{\\sqrt{2}} \\begin{bmatrix} 1 & 1 \\\\ 1 & -1 \\end{bmatrix} \\times \\begin{bmatrix} \\frac{2\\sqrt{2}}{3} \\\\ \\frac{1}{3}\\end{bmatrix} = \\frac{1}{\\sqrt{2}} \\begin{bmatrix}\\frac{2\\sqrt{2}+1}{3} \\\\ \\frac{2\\sqrt{2}-1}{3} \\end{bmatrix} = \\begin{bmatrix}\\frac{2\\sqrt{2}+1}{3\\sqrt{2}} \\\\ \\frac{2\\sqrt{2}-1}{3\\sqrt{2}} \\end{bmatrix} $$ \n",
    "\n",
    "This tells us that the state of qubit is in the following form:\n",
    "\n",
    "$\\frac{2\\sqrt{2}+1}{3\\sqrt{2}} |0\\rangle + \\frac{2\\sqrt{2}-1}{3\\sqrt{2}} |1\\rangle$\n"
   ]
  },
  {
   "cell_type": "markdown",
   "id": "40d20936",
   "metadata": {},
   "source": [
    "### 7.5 Verify that the approximate probability distribution obtained in 7.3 conforms with the state of qubit `0` obtained in 7.4. This should be done in a Markdown cell with the calculations based on probability amplitudes."
   ]
  },
  {
   "cell_type": "markdown",
   "id": "ed53a350",
   "metadata": {},
   "source": [
    "We know that the state of qubit is in this state:\n",
    "\n",
    "$\\frac{2\\sqrt{2}+1}{3\\sqrt{2}} |0\\rangle + \\frac{2\\sqrt{2}-1}{3\\sqrt{2}} |1\\rangle$\n",
    "\n",
    "\n",
    "To get the probability amplitudes we simply do the following:\n",
    "\n",
    "$P(|0\\rangle)   = \\left(\\frac{2\\sqrt{2}+1}{3\\sqrt{2}}\\right)^{2} \\thickapprox 0.814269681 $ ,  \n",
    "\n",
    "$P(|1\\rangle)   = \\left(\\frac{2\\sqrt{2}-1}{3\\sqrt{2}}\\right)^{2} \\thickapprox 0.185730319$\n",
    "\n",
    "This probability calculation conforms to the one stipulated in section 7.2. As these show the probability amplitude for 0 and 1 to be 0.815 and 0.185 respectively."
   ]
  },
  {
   "cell_type": "code",
   "execution_count": null,
   "id": "2b049deb",
   "metadata": {},
   "outputs": [],
   "source": []
  }
 ],
 "metadata": {
  "kernelspec": {
   "display_name": "Python 3 (ipykernel)",
   "language": "python",
   "name": "python3"
  },
  "language_info": {
   "codemirror_mode": {
    "name": "ipython",
    "version": 3
   },
   "file_extension": ".py",
   "mimetype": "text/x-python",
   "name": "python",
   "nbconvert_exporter": "python",
   "pygments_lexer": "ipython3",
   "version": "3.9.7"
  }
 },
 "nbformat": 4,
 "nbformat_minor": 5
}
