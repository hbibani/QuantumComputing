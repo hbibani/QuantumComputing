{
 "cells": [
  {
   "cell_type": "markdown",
   "id": "5dda7539",
   "metadata": {},
   "source": [
    "# LAB 3\n",
    "\n",
    " **Name**: Heja Bibani  \n",
    " **Student Number**: 16301173"
   ]
  },
  {
   "cell_type": "markdown",
   "id": "242e0893",
   "metadata": {},
   "source": [
    "## Section 1 \n",
    "\n",
    "Manually calculate the Tensor Product of the following two vectors in two ways: $\\begin{bmatrix} \\frac{1}{2} \\\\0\\\\-\\frac{1}{2}\\\\\\frac{1}{\\sqrt{2}}\\end{bmatrix}$ and $\\begin{bmatrix}\\frac{1}{\\sqrt{2}}\\\\-\\frac{1}{\\sqrt{2}}\\end{bmatrix}$.\n"
   ]
  },
  {
   "cell_type": "markdown",
   "id": "3c6d80a8",
   "metadata": {},
   "source": [
    "#### Task 1.1 Conduct calculation by their vector forms."
   ]
  },
  {
   "cell_type": "markdown",
   "id": "c11141db",
   "metadata": {},
   "source": [
    "\n",
    "$$\\begin{align*}\n",
    "\\begin{bmatrix}\n",
    "\\frac{1}{2}\\\\\n",
    "0\\\\\n",
    "-\\frac{1}{2}\\\\\n",
    "\\frac{1}{\\sqrt{2}}\\end{bmatrix}\\otimes\n",
    "\\begin{bmatrix}\n",
    "\\frac{1}{\\sqrt{2}}\n",
    "\\\\-\\frac{1}{\\sqrt{2}}\n",
    "\\end{bmatrix} &= \n",
    "\\begin{bmatrix}\n",
    "\\frac{1}{2} \\times \\frac{1}{\\sqrt{2}}\\\\\n",
    "\\frac{1}{2} \\times -\\frac{1}{\\sqrt{2}}\\\\ \n",
    "0\\times\\frac{1}{\\sqrt{2}}\\\\\n",
    "0 \\times -\\frac{1}{\\sqrt{2}}\\\\\n",
    "-\\frac{1}{2} \\times \\frac{1}{\\sqrt{2}}\\\\\n",
    "-\\frac{1}{2} \\times -\\frac{1}{\\sqrt{2}}\\\\\n",
    "\\frac{1}{\\sqrt{2}} \\times \\frac{1}{\\sqrt{2}}\\\\\n",
    "\\frac{1}{\\sqrt{2}} \\times -\\frac{1}{\\sqrt{2}}\n",
    "\\end{bmatrix}= \n",
    "\\begin{bmatrix}\\frac{1}{2\\sqrt{2}}\\\\\n",
    "-\\frac{1}{2\\sqrt{2}}\\\\\n",
    "0\\\\\n",
    "0\\\\\n",
    "-\\frac{1}{2\\sqrt{2}}\\\\\n",
    "\\frac{1}{2\\sqrt{2}}\\\\\n",
    "\\frac{1}{2}\\\\ -\\frac{1}{2} \n",
    "\\end{bmatrix}\n",
    "\\\\\n",
    "&=\\frac{1}{2\\sqrt{2}}|000\\rangle-\\frac{1}{2\\sqrt{2}}|001\\rangle-\\frac{1}{2\\sqrt{2}}|100\\rangle + \\frac{1}{2\\sqrt{2}}|101\\rangle\n",
    "+ \\frac{1}{2}|110\\rangle - \\frac{1}{2}|111\\rangle\n",
    "\\end{align*}$$\n",
    "\n",
    "\n"
   ]
  },
  {
   "cell_type": "markdown",
   "id": "2a6c63fb",
   "metadata": {},
   "source": [
    "#### Task 1.2 Convert these two vectors into their basis forms and then conduct calculation by their basis forms."
   ]
  },
  {
   "cell_type": "markdown",
   "id": "06a99171",
   "metadata": {},
   "source": [
    "$$\\begin{align*}\n",
    "\\begin{bmatrix} \\frac{1}{2} \\\\0\\\\-\\frac{1}{2}\\\\\\frac{1}{\\sqrt{2}}\\end{bmatrix} &= \\frac{1}{2}|00\\rangle -\\frac{1}{2}|10\\rangle +\\frac{1}{\\sqrt{2}}|11\\rangle \\\\\n",
    "\\begin{bmatrix}\\frac{1}{\\sqrt{2}}\\\\-\\frac{1}{\\sqrt{2}}\\end{bmatrix} \n",
    "&= \\frac{1}{\\sqrt{2}}|0\\rangle-\\frac{1}{\\sqrt{2}}|1\\rangle\\\\\n",
    "\\begin{bmatrix} \\frac{1}{2} \\\\0\\\\-\\frac{1}{2}\\\\\\frac{1}{\\sqrt{2}}\\end{bmatrix} \\otimes \\begin{bmatrix}\\frac{1}{\\sqrt{2}}\\\\-\\frac{1}{\\sqrt{2}}\\end{bmatrix}&=\\left(\\frac{1}{2}|00\\rangle - \\frac{1}{2}|10\\rangle +\\frac{1}{\\sqrt{2}}|11\\rangle\\right) \\otimes \\left(\\frac{1}{\\sqrt{2}}|0\\rangle-\\frac{1}{\\sqrt{2}}|1\\rangle\\right)\\\\\n",
    "&=\\frac{1}{2\\sqrt{2}}|000\\rangle-\\frac{1}{2\\sqrt{2}}|001\\rangle-\\frac{1}{2\\sqrt{2}}|100\\rangle + \\frac{1}{2\\sqrt{2}}|101\\rangle\n",
    "+ \\frac{1}{2}|110\\rangle - \\frac{1}{2}|111\\rangle\n",
    "\\end{align*}$$ \n",
    "\n",
    "\n",
    "\n",
    "\n",
    "As we can see this is the same output in task 1.1. \n",
    "\n"
   ]
  },
  {
   "cell_type": "markdown",
   "id": "928f4d84",
   "metadata": {},
   "source": [
    "## Section 2\n",
    "\n",
    "Factor the joint state $\\frac{4}{5\\sqrt{2}}|00\\rangle-\\frac{3}{5\\sqrt{2}}|01\\rangle-\\frac{4}{5\\sqrt{2}}|10\\rangle + \\frac{3}{5\\sqrt{2}}|11\\rangle$ into two independent qubit states.\n"
   ]
  },
  {
   "cell_type": "markdown",
   "id": "686f1f20",
   "metadata": {},
   "source": [
    "#### Task 2.1 Verify this joint state is not entangled."
   ]
  },
  {
   "cell_type": "markdown",
   "id": "0b642bbb",
   "metadata": {},
   "source": [
    "Given a joint state  $r|00\\rangle + s|01\\rangle + t|10\\rangle + u|11\\rangle$. For the state to not be entangled ru = st.\n",
    "\n",
    "We have: $ru = \\frac{4}{5\\sqrt{2}} \\times \\frac{3}{5\\sqrt{2}} = \\frac{12}{50}$\n",
    "and $st = -\\frac{3}{5\\sqrt{2}} \\times -\\frac{4}{5\\sqrt{2}} = \\frac{12}{50}$, \n",
    "so $ru = st$ holds. Thus, this joint state can be factored into two independent states."
   ]
  },
  {
   "cell_type": "markdown",
   "id": "a6e7fc70",
   "metadata": {},
   "source": [
    "#### Task 2.2 Include the detailed steps for the factoring."
   ]
  },
  {
   "cell_type": "markdown",
   "id": "f5d5d698",
   "metadata": {},
   "source": [
    "$$\n",
    "\\begin{align*}\n",
    "\\frac{4}{5\\sqrt{2}}|00\\rangle-\\frac{3}{5\\sqrt{2}}|01\\rangle-\\frac{4}{5\\sqrt{2}}|10\\rangle + \\frac{3}{5\\sqrt{2}}|11\\rangle\n",
    "&\\quad = \\quad \\frac{4}{5\\sqrt{2}}|0\\rangle \\otimes |0\\rangle- \\frac{3}{5\\sqrt{2}}|0\\rangle \\otimes |1\\rangle-\\frac{4}{5\\sqrt{2}}|1\\rangle \\otimes |0\\rangle + \\frac{3}{5\\sqrt{2}}|1\\rangle \\otimes |1\\rangle \\\\\n",
    "&\\quad = \\quad |0\\rangle \\otimes (\\frac{4}{5\\sqrt{2}}|0\\rangle -\\frac{3}{5\\sqrt{2}}|1\\rangle) - \n",
    "   |1\\rangle \\otimes (\\frac{4}{5\\sqrt{2}}|0\\rangle - \\frac{3}{5\\sqrt{2}}|1\\rangle)      \\\\\n",
    "&\\quad = \\quad \\frac{1}{\\sqrt{2}}|0\\rangle \\otimes (\\frac{4}{5}|0\\rangle - \\frac{3}{5}|1\\rangle) - \n",
    "   \\frac{1}{\\sqrt{2}}|1\\rangle \\otimes (\\frac{4}{5}|0\\rangle - \\frac{3}{5}|1\\rangle)   \\\\\n",
    "&\\quad = \\quad (\\frac{1}{\\sqrt{2}}|0\\rangle -\\frac{1}{\\sqrt{2}}|1\\rangle) \\otimes (\\frac{4}{5}|0\\rangle + \\frac{3}{5}|1\\rangle)\n",
    "\\end{align*}\n",
    "$$\n",
    "\n",
    "So the two individual qubits are $\\frac{1}{\\sqrt{2}}|0\\rangle - \\frac{1}{\\sqrt{2}}|1\\rangle$\n",
    "and $\\frac{4}{5}|0\\rangle + \\frac{\\sqrt{3}}{5}|1\\rangle$.\n",
    "Both qubits satisfy that the sum of their amplitudes squared equals 1. \n"
   ]
  },
  {
   "cell_type": "markdown",
   "id": "8a7927d1",
   "metadata": {},
   "source": [
    "## Section 3\n"
   ]
  },
  {
   "cell_type": "markdown",
   "id": "e17446cf",
   "metadata": {},
   "source": [
    "You are given three vectors: $|x\\rangle$ = $\\begin{bmatrix} 5 \\\\ 6\\\\ 7\\end{bmatrix}$ and $|y\\rangle$ =  $\\begin{bmatrix} 2\\\\3\\end{bmatrix}$ and $|z\\rangle$ =  $\\begin{bmatrix} 1\\\\8 \\end{bmatrix}$ use these to demonstrate the following properties using python in the next sections:"
   ]
  },
  {
   "cell_type": "markdown",
   "id": "1aa1f895",
   "metadata": {},
   "source": [
    "#### Task 3.1 Distributivity: \n",
    "\n",
    "We need to test if the following holds: $|x\\rangle(|y\\rangle + |z\\rangle) = |x\\rangle|y\\rangle + |x\\rangle|z\\rangle$"
   ]
  },
  {
   "cell_type": "code",
   "execution_count": 28,
   "id": "b84dc6f9",
   "metadata": {},
   "outputs": [
    {
     "data": {
      "text/plain": [
       "array([5, 6, 7])"
      ]
     },
     "execution_count": 28,
     "metadata": {},
     "output_type": "execute_result"
    }
   ],
   "source": [
    "import numpy as np\n",
    "\n",
    "x = np.array([5,6,7])\n",
    "x"
   ]
  },
  {
   "cell_type": "code",
   "execution_count": 27,
   "id": "85103909",
   "metadata": {},
   "outputs": [
    {
     "data": {
      "text/plain": [
       "array([2, 3])"
      ]
     },
     "execution_count": 27,
     "metadata": {},
     "output_type": "execute_result"
    }
   ],
   "source": [
    "y = np.array([2,3])\n",
    "y"
   ]
  },
  {
   "cell_type": "code",
   "execution_count": 26,
   "id": "13e65336",
   "metadata": {},
   "outputs": [
    {
     "data": {
      "text/plain": [
       "array([1, 8])"
      ]
     },
     "execution_count": 26,
     "metadata": {},
     "output_type": "execute_result"
    }
   ],
   "source": [
    "z = np.array([1,8])\n",
    "z"
   ]
  },
  {
   "cell_type": "markdown",
   "id": "6e7b154f",
   "metadata": {},
   "source": [
    "Let's first calculate $|x\\rangle \\otimes (|y\\rangle + |z\\rangle)$:"
   ]
  },
  {
   "cell_type": "code",
   "execution_count": 29,
   "id": "5838a548",
   "metadata": {},
   "outputs": [
    {
     "data": {
      "text/plain": [
       "array([15, 55, 18, 66, 21, 77])"
      ]
     },
     "execution_count": 29,
     "metadata": {},
     "output_type": "execute_result"
    }
   ],
   "source": [
    "yaz = y+z\n",
    "yaz\n",
    "prod_x_yaz = np.kron(x, yaz)\n",
    "prod_x_yaz"
   ]
  },
  {
   "cell_type": "markdown",
   "id": "04d3ddcd",
   "metadata": {},
   "source": [
    "Then, let's calculate $(|x\\rangle \\otimes |y\\rangle) + (|x\\rangle \\otimes |z\\rangle)$:"
   ]
  },
  {
   "cell_type": "code",
   "execution_count": 30,
   "id": "c683a291",
   "metadata": {},
   "outputs": [
    {
     "data": {
      "text/plain": [
       "array([15, 55, 18, 66, 21, 77])"
      ]
     },
     "execution_count": 30,
     "metadata": {},
     "output_type": "execute_result"
    }
   ],
   "source": [
    "prod_xy = np.kron(x, y)\n",
    "prod_xz = np.kron(x, z)\n",
    "sum_xy_xz = prod_xy + prod_xz\n",
    "sum_xy_xz"
   ]
  },
  {
   "cell_type": "code",
   "execution_count": 31,
   "id": "9d9fc21e",
   "metadata": {},
   "outputs": [
    {
     "data": {
      "text/plain": [
       "array([ True,  True,  True,  True,  True,  True])"
      ]
     },
     "execution_count": 31,
     "metadata": {},
     "output_type": "execute_result"
    }
   ],
   "source": [
    "prod_x_yaz == sum_xy_xz"
   ]
  },
  {
   "cell_type": "markdown",
   "id": "52ae80e4",
   "metadata": {},
   "source": [
    " We notice in the above that both calculations produce the same array and thus satisfies Distributivity. Since $|x\\rangle(|y\\rangle + |z\\rangle) = |x\\rangle|y\\rangle + |x\\rangle|z\\rangle$"
   ]
  },
  {
   "cell_type": "markdown",
   "id": "f48466e3",
   "metadata": {},
   "source": [
    "#### Task 3.2 Associativity: \n",
    "\n",
    "We need to test if the following holds:\n",
    "$(|x\\rangle \\otimes |y\\rangle) \\otimes |z\\rangle = |x\\rangle \\otimes (|y\\rangle \\otimes |z\\rangle)$\n"
   ]
  },
  {
   "cell_type": "code",
   "execution_count": 32,
   "id": "9eec1494",
   "metadata": {},
   "outputs": [
    {
     "data": {
      "text/plain": [
       "array([ 10,  80,  15, 120,  12,  96,  18, 144,  14, 112,  21, 168])"
      ]
     },
     "execution_count": 32,
     "metadata": {},
     "output_type": "execute_result"
    }
   ],
   "source": [
    "prod_xy_z = np.kron(prod_xy, z)\n",
    "prod_xy_z"
   ]
  },
  {
   "cell_type": "code",
   "execution_count": 33,
   "id": "7bfe4efa",
   "metadata": {},
   "outputs": [
    {
     "data": {
      "text/plain": [
       "array([ 10,  80,  15, 120,  12,  96,  18, 144,  14, 112,  21, 168])"
      ]
     },
     "execution_count": 33,
     "metadata": {},
     "output_type": "execute_result"
    }
   ],
   "source": [
    "prod_yz = np.kron(y,z)\n",
    "prod_x_yz = np.kron(x, prod_yz)\n",
    "prod_x_yz"
   ]
  },
  {
   "cell_type": "code",
   "execution_count": 34,
   "id": "3aea2b93",
   "metadata": {},
   "outputs": [
    {
     "data": {
      "text/plain": [
       "array([ True,  True,  True,  True,  True,  True,  True,  True,  True,\n",
       "        True,  True,  True])"
      ]
     },
     "execution_count": 34,
     "metadata": {},
     "output_type": "execute_result"
    }
   ],
   "source": [
    "prod_xy_z == prod_x_yz"
   ]
  },
  {
   "cell_type": "markdown",
   "id": "945249a9",
   "metadata": {},
   "source": [
    " We notice in the above that both calculations produce the same array and thus satisfies Distributivity. Since $(|x\\rangle \\otimes |y\\rangle) \\otimes |z\\rangle = |x\\rangle \\otimes (|y\\rangle \\otimes |z\\rangle)$\n"
   ]
  },
  {
   "cell_type": "markdown",
   "id": "d2ea927d",
   "metadata": {},
   "source": [
    "#### Task 3.3 Associativity: \n",
    "\n",
    "To test associativity, we will test on the vectors $|x\\rangle$, $|y\\rangle$ and therefore, we must show that $|x\\rangle \\otimes |y\\rangle \\ne |y\\rangle \\otimes |x\\rangle$."
   ]
  },
  {
   "cell_type": "code",
   "execution_count": 22,
   "id": "11d8d075",
   "metadata": {},
   "outputs": [
    {
     "data": {
      "text/plain": [
       "array([10, 12, 14, 15, 18, 21])"
      ]
     },
     "execution_count": 22,
     "metadata": {},
     "output_type": "execute_result"
    }
   ],
   "source": [
    "prod_yx = np.kron(y,x)\n",
    "prod_yx"
   ]
  },
  {
   "cell_type": "code",
   "execution_count": 23,
   "id": "879893de",
   "metadata": {},
   "outputs": [
    {
     "data": {
      "text/plain": [
       "array([10, 15, 12, 18, 14, 21])"
      ]
     },
     "execution_count": 23,
     "metadata": {},
     "output_type": "execute_result"
    }
   ],
   "source": [
    "prod_xy"
   ]
  },
  {
   "cell_type": "code",
   "execution_count": 24,
   "id": "cff7af68",
   "metadata": {},
   "outputs": [
    {
     "data": {
      "text/plain": [
       "array([ True, False, False, False, False,  True])"
      ]
     },
     "execution_count": 24,
     "metadata": {},
     "output_type": "execute_result"
    }
   ],
   "source": [
    "prod_xy == prod_yx"
   ]
  },
  {
   "cell_type": "markdown",
   "id": "35aebfd4",
   "metadata": {},
   "source": [
    " We can see in the above that the output of the vectors are different and thus $|x\\rangle \\otimes |y\\rangle \\ne |y\\rangle \\otimes |x\\rangle$."
   ]
  },
  {
   "cell_type": "markdown",
   "id": "8169859d",
   "metadata": {},
   "source": [
    "## Section 4\n",
    "\n",
    "You are given two independent qubits: $q_0 \\, = \\, \\frac{1}{3}|0\\rangle - \\frac{2\\sqrt{2}}{3}|1\\rangle$ and $q_1 \\, = \\, \\frac{5}{13}|0\\rangle - \\frac{12}{13}|1\\rangle$. Use Qiskit package to perform the following. \n"
   ]
  },
  {
   "cell_type": "markdown",
   "id": "c2b1b497",
   "metadata": {},
   "source": [
    "#### Task 4.1: \n",
    "\n",
    " Construct a circuit with 2-qubit input and 2-bit output. Initialize $q_0$ as $\\frac{1}{3}|0\\rangle - \\frac{2\\sqrt{2}}{3}|1\\rangle$ and $q_1$ as $\\, \\frac{5}{13}|0\\rangle - \\frac{12}{13}|1\\rangle$. Measure these two qubits. Draw this circuit."
   ]
  },
  {
   "cell_type": "code",
   "execution_count": 1,
   "id": "582da526",
   "metadata": {},
   "outputs": [
    {
     "data": {
      "image/png": "[encoded data removed]",
      "text/plain": [
       "<Figure size 327.252x204.68 with 1 Axes>"
      ]
     },
     "execution_count": 1,
     "metadata": {},
     "output_type": "execute_result"
    }
   ],
   "source": [
    "from qiskit import *\n",
    "from qiskit.providers.aer import QasmSimulator\n",
    "from qiskit.visualization import plot_histogram\n",
    "from math import sqrt\n",
    "\n",
    "# Create a quantum circuit with 2 input qubits and 2 output bits\n",
    "qc = QuantumCircuit(2,2)\n",
    "# Initialize qubit 0 as |q0>\n",
    "initial_state = [1/3, sqrt(8)/3]\n",
    "qc.initialize(initial_state, 0)\n",
    "# Initialize qubit 1 as |q1>\n",
    "initial_state = [5/13, 12/13]\n",
    "qc.initialize(initial_state, 1)\n",
    "# Store the measurement results of qubits 0 and 1 into bits 0 and 1 respectively\n",
    "qc.measure([0,1], [0,1])\n",
    "\n",
    "# Visualize this circuit\n",
    "%matplotlib inline\n",
    "qc.draw()"
   ]
  },
  {
   "cell_type": "markdown",
   "id": "95022ef5",
   "metadata": {},
   "source": [
    "#### Task 4.2: \n",
    "\n",
    "Use a QasmSimulator to run the above circuit with 2000 shots, and then plot the measurement results."
   ]
  },
  {
   "cell_type": "code",
   "execution_count": 43,
   "id": "1e166af1",
   "metadata": {},
   "outputs": [
    {
     "name": "stdout",
     "output_type": "stream",
     "text": [
      "\n",
      " The counts for different outputs are: {'11': 1520, '01': 285, '10': 172, '00': 23}\n"
     ]
    },
    {
     "data": {
      "image/png": "[encoded data removed]",
      "text/plain": [
       "<Figure size 504x360 with 1 Axes>"
      ]
     },
     "execution_count": 43,
     "metadata": {},
     "output_type": "execute_result"
    }
   ],
   "source": [
    "simulator = QasmSimulator()\n",
    "job = execute(qc, backend=simulator, shots=2000)\n",
    "# Call result() to obtain the result\n",
    "result = job.result()\n",
    "# Call get_counts() to obtain the counts of different outputs\n",
    "counts = result.get_counts(qc)\n",
    "\n",
    "# Print the counts of different outputs\n",
    "print(\"\\n The counts for different outputs are:\", counts)\n",
    "# Plot the histogram\n",
    "plot_histogram(counts)"
   ]
  },
  {
   "cell_type": "markdown",
   "id": "6f81c34e",
   "metadata": {},
   "source": [
    "#### Task 4.3: \n",
    "Manually calculate the probabilities of measuring 00, 01, 10, and 11 in theory."
   ]
  },
  {
   "cell_type": "markdown",
   "id": "d0578215",
   "metadata": {},
   "source": [
    "We note that with qiskit the tensor product of the values start from  $|q_1\\rangle$ to $|q_0\\rangle$ thus we calculate the tensor product in the following way:\n",
    "\n",
    "\n",
    "$$ \n",
    "\\begin{align*}\n",
    "|q_1 q_0\\rangle\n",
    "&\\, = \\, (\\frac{5}{13}|0\\rangle - \\frac{12}{13}|1\\rangle)  \\otimes (\\frac{1}{3}|0\\rangle - \\frac{2\\sqrt{2}}{3}|1\\rangle) \\\\\n",
    "&\\, = \\, \\frac{5}{39}|00\\rangle - \\frac{10\\sqrt{2}}{39}|01\\rangle - \\frac{12}{39}|10\\rangle + \\frac{24\\sqrt{2}}{39}|11\\rangle\n",
    "\\end{align*}\n",
    "$$\n",
    "\n",
    "\n",
    "So we have:\n",
    "\n",
    "$P(|q_1 q_0 \\rangle \\text{ measured as } |00\\rangle) \\, = \\, (\\frac{5}{39})^2 \\, = \\, \\frac{25}{1521} \\, \\approx \\, 0.016$, \n",
    "\n",
    "$P(|q_1 q_0 \\rangle \\text{ measured as } |01\\rangle) \\, = \\, (\\frac{10\\sqrt{2}}{39})^2 \\, = \\, \\frac{200}{1521} \\, \\approx \\, 0.131$, \n",
    "\n",
    "$P(|q_1 q_0 \\rangle \\text{ measured as } |10\\rangle) \\, = \\, (-\\frac{12}{39})^2 \\, = \\, \\frac{16}{169} \\, \\approx \\, 0.095$\n",
    "\n",
    "$P(|q_1 q_0 \\rangle \\text{ measured as } |11\\rangle) \\, = \\, (\\frac{24\\sqrt{2}}{39})^2 \\, = \\, \\frac{128}{169} \\, \\approx \\, 0.757$.\n",
    "\n"
   ]
  },
  {
   "cell_type": "markdown",
   "id": "33237809",
   "metadata": {},
   "source": [
    "#### Task 4.4: \n",
    "\n",
    "Show by calculation that the probabilities obtained in 4.2 roughly match the probabilities obtained in 4.3."
   ]
  },
  {
   "cell_type": "markdown",
   "id": "23ca52b5",
   "metadata": {},
   "source": [
    "We can see in task 4.3 the approximate probabilities are given in the calculations. With the graph we take the values for the bit with index 0 is for |$q_0$⟩ , and the bit with index 1 is for |$q_1$⟩.For the four outcomes in this plot, if we index them by subscripts, they should look like $0_1 0_0$, $0_1 1_0$, $1_1 0_0$, and $1_1 1_0$. So the bit with index `1` is for $|q_1\\rangle$, and the bit with index `0` is for $|q_0\\rangle$. We read this off the graph from right to left. \n",
    "\n",
    "The probability for $|11\\rangle$ is 0.757 and 0.76 for the simulator, for $|00\\rangle$ is 0.016 and 0.011 for the simulator, for $|01\\rangle$ is 0.131 and 0.142 for the simulator, and for $|10\\rangle$ 0.095 and 0.086 for the simulator. \n",
    "\n",
    "This shows that the calculation roughly matches the values in the simulator obtained in 4.3."
   ]
  }
 ],
 "metadata": {
  "kernelspec": {
   "display_name": "Python 3 (ipykernel)",
   "language": "python",
   "name": "python3"
  },
  "language_info": {
   "codemirror_mode": {
    "name": "ipython",
    "version": 3
   },
   "file_extension": ".py",
   "mimetype": "text/x-python",
   "name": "python",
   "nbconvert_exporter": "python",
   "pygments_lexer": "ipython3",
   "version": "3.9.7"
  }
 },
 "nbformat": 4,
 "nbformat_minor": 5
}
