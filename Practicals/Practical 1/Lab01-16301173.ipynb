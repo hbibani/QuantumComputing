{
 "cells": [
  {
   "cell_type": "markdown",
   "id": "4e81277b",
   "metadata": {},
   "source": [
    "# LAB 1\n",
    "\n",
    " **Name**: Heja Bibani  \n",
    " **Student Number**: 16301173\n"
   ]
  },
  {
   "cell_type": "markdown",
   "id": "f2f121b9",
   "metadata": {},
   "source": [
    "### 1. TASK 2\n",
    " Write down the version of Qiskit, Qiskit-terra, Qiskit-aer"
   ]
  },
  {
   "cell_type": "code",
   "execution_count": 9,
   "id": "15141eda",
   "metadata": {},
   "outputs": [
    {
     "name": "stdout",
     "output_type": "stream",
     "text": [
      "Qiskit: 0.34.2\n",
      "Qiskit-terra: 0.19.2\n",
      "Qiskit-aer: 0.10.3\n"
     ]
    }
   ],
   "source": [
    "import qiskit\n",
    "\n",
    "qiskit.__qiskit_version__\n",
    "\n",
    "version = qiskit.__qiskit_version__\n",
    "\n",
    "print(\"Qiskit: \" + version['qiskit'])\n",
    "print(\"Qiskit-terra: \" + version['qiskit-terra'])\n",
    "print(\"Qiskit-aer: \" + version['qiskit-aer'])"
   ]
  },
  {
   "cell_type": "markdown",
   "id": "8f06edcd",
   "metadata": {},
   "source": [
    " From the above, you can notice that qiskit has many elements. The version of Qiskit, Qiskit-terra, Qiskit-aer are the     following:\n",
    " \n",
    " Qiskit: '0.34.2'  \n",
    " Qiskit-terra: '0.19.2'  \n",
    " Qiskit-aer: '0.10.3'\n",
    " \n",
    " The qiskit.__qiskit_version__ is a dictionary in which we can extract the values of the versions of software we want to know. "
   ]
  },
  {
   "cell_type": "markdown",
   "id": "da29ddc3",
   "metadata": {},
   "source": [
    "### 2. Task 3\n",
    " \n",
    "Create  a  simple  quantum  circuit  with  measurement  and visualization by  following the  steps below:"
   ]
  },
  {
   "cell_type": "markdown",
   "id": "b56260f4",
   "metadata": {},
   "source": [
    "#### Step 3.1: Import all necessary packages"
   ]
  },
  {
   "cell_type": "code",
   "execution_count": 10,
   "id": "43bd89eb",
   "metadata": {},
   "outputs": [],
   "source": [
    "from qiskit import *\n",
    "from qiskit.providers.aer import QasmSimulator\n",
    "from qiskit.visualization import plot_histogram\n",
    "from qiskit.tools import job_monitor\n",
    "from qiskit.providers.ibmq import least_busy\n",
    "import matplotlib"
   ]
  },
  {
   "cell_type": "markdown",
   "id": "f911f4ab",
   "metadata": {},
   "source": [
    "#### Step 3.2: Create a circuit with 2 input qubits and 2 output bits"
   ]
  },
  {
   "cell_type": "markdown",
   "id": "c0302c1d",
   "metadata": {},
   "source": [
    " A quantum circuit consists of a qubit register as input, some gates for processing, and a classical bit register as output. In this circumstance, we are interested in creating a circuit which consists of two qubits and two classical registers to store the output."
   ]
  },
  {
   "cell_type": "code",
   "execution_count": 11,
   "id": "f869f0bf",
   "metadata": {},
   "outputs": [],
   "source": [
    "# Construct a circuit with a 2-qubit register as input and 2-bit classical register as output.\n",
    "circuit = QuantumCircuit(2, 2)"
   ]
  },
  {
   "cell_type": "markdown",
   "id": "c8484b1a",
   "metadata": {},
   "source": [
    "#### Step 3.3: Apply h()  gate  to  𝑞0, apply  x()  gate  to  𝑞1, and finally apply cx()  gate  to  𝑞0  and  𝑞1."
   ]
  },
  {
   "cell_type": "markdown",
   "id": "45b299c1",
   "metadata": {},
   "source": [
    " With the cirucit that we have created, we can then apply quantum gates to each of the inputs. Some of these gates may require more than one input. We are applying a hadarmard gate on input 0, a not gate on input 1, and then a cnot gate on inputs 0 and 1."
   ]
  },
  {
   "cell_type": "code",
   "execution_count": 12,
   "id": "073228d6",
   "metadata": {},
   "outputs": [
    {
     "data": {
      "text/plain": [
       "<qiskit.circuit.instructionset.InstructionSet at 0x21f06a91d40>"
      ]
     },
     "execution_count": 12,
     "metadata": {},
     "output_type": "execute_result"
    }
   ],
   "source": [
    "circuit.h(0)\n",
    "circuit.x(1)\n",
    "circuit.cx(0,1)"
   ]
  },
  {
   "cell_type": "markdown",
   "id": "c5fd4115",
   "metadata": {},
   "source": [
    "#### Step 3.4: Measure  𝑞0  and  𝑞1, and store  the  measurement  results  into bits  0 and 1 respectively. "
   ]
  },
  {
   "cell_type": "markdown",
   "id": "d0924f12",
   "metadata": {},
   "source": [
    " We can then store the value of the outputs after a gate has been applied in the classical registers we created."
   ]
  },
  {
   "cell_type": "code",
   "execution_count": 13,
   "id": "606a95f5",
   "metadata": {},
   "outputs": [
    {
     "data": {
      "text/plain": [
       "<qiskit.circuit.instructionset.InstructionSet at 0x21e8d7f3d00>"
      ]
     },
     "execution_count": 13,
     "metadata": {},
     "output_type": "execute_result"
    }
   ],
   "source": [
    "circuit.measure(0,0)\n",
    "circuit.measure(1,1)"
   ]
  },
  {
   "cell_type": "markdown",
   "id": "9b8fd294",
   "metadata": {},
   "source": [
    "#### Step 3.5: Visualize this  circuit."
   ]
  },
  {
   "cell_type": "markdown",
   "id": "17ce6291",
   "metadata": {},
   "source": [
    " We can then visualize the circuit by calling circuit.draw() function. In this case, we are using the format of matplotlib and including this by using the \"%\" paramter."
   ]
  },
  {
   "cell_type": "code",
   "execution_count": 14,
   "id": "2d8a2ff7",
   "metadata": {},
   "outputs": [
    {
     "data": {
      "image/png": "[encoded data removed]",
      "text/plain": [
       "<Figure size 327.252x204.68 with 1 Axes>"
      ]
     },
     "execution_count": 14,
     "metadata": {},
     "output_type": "execute_result"
    }
   ],
   "source": [
    "%matplotlib inline\n",
    "circuit.draw()"
   ]
  },
  {
   "cell_type": "markdown",
   "id": "55a92c1e",
   "metadata": {},
   "source": [
    "### 3. Task 4\n",
    " Run the  above  quantum  circuit  with  a  QasmSimulator  for  2000 shots  and plot  the  result  with  a histogram.  The     expected result  is  that  ‘01’  and ‘10’  should each  appear  with  about  50% probability,  and ‘00’  and  ‘11’  won’t  appear.   "
   ]
  },
  {
   "cell_type": "markdown",
   "id": "d16f8f02",
   "metadata": {},
   "source": [
    " We will then use QasumSimulator() to run a program without quantum noise. Qasm stands for quantum assembly. Thus, only the values '01' and '10' should appear."
   ]
  },
  {
   "cell_type": "code",
   "execution_count": 15,
   "id": "29a6637b",
   "metadata": {},
   "outputs": [
    {
     "name": "stdout",
     "output_type": "stream",
     "text": [
      "<class 'qiskit.result.counts.Counts'>\n",
      "\n",
      " The counts for different outputs are: {'01': 990, '10': 1010}\n"
     ]
    },
    {
     "data": {
      "image/png": "[encoded data removed]",
      "text/plain": [
       "<Figure size 504x360 with 1 Axes>"
      ]
     },
     "execution_count": 15,
     "metadata": {},
     "output_type": "execute_result"
    }
   ],
   "source": [
    "simulator = QasmSimulator()\n",
    "job = execute(circuit, backend=simulator, shots=2000)\n",
    "# Call result() to obtain the result\n",
    "result = job.result()\n",
    "# Call get_counts() to obtain the counts of different outputs\n",
    "counts = result.get_counts(circuit)\n",
    "# NB: 'counts' has a type of <class 'qiskit.result.counts.Counts'>, \n",
    "# which is similar to a type of dictionary.\n",
    "print(type(counts))\n",
    "\n",
    "# Print the counts of different outputs\n",
    "print(\"\\n The counts for different outputs are:\", counts)\n",
    "# Plot the histogram\n",
    "# Need: from qiskit.visualization import plot_histogram\n",
    "plot_histogram(counts)"
   ]
  },
  {
   "cell_type": "markdown",
   "id": "64af104f",
   "metadata": {},
   "source": [
    "### 4. Task 5\n",
    "Run the  above  quantum  circuit  with  a  real  IBM  quantum  computer  by following the  steps  below."
   ]
  },
  {
   "cell_type": "markdown",
   "id": "71c8fa09",
   "metadata": {},
   "source": [
    "#### Step 5.1: Create  an account  at  the  IBM  quantum  website,  and retrieve  your  API  token. Store  this token into your  local  qiskit  installation by calling IBMQ.save_account(). "
   ]
  },
  {
   "cell_type": "code",
   "execution_count": 16,
   "id": "c5cd05d3",
   "metadata": {},
   "outputs": [],
   "source": [
    "IBMQ.save_account('9005ac0977243c9130d37f556dcc1131d86a33cfdb9cff3564c28197626ede0fced03ce77b943f150df2346ff629bd06a95ea33bad03541c2e3c54ff614388be', overwrite=True)"
   ]
  },
  {
   "cell_type": "markdown",
   "id": "fe2347c9",
   "metadata": {},
   "source": [
    "#### Step 5.2: Find a  least  busy real  computer. "
   ]
  },
  {
   "cell_type": "markdown",
   "id": "dc644eca",
   "metadata": {},
   "source": [
    "We will find the least busiest computer to the job for us by calling the following function. In this scenario we are using an actual quantum computer. Because of this, we should expect that there will be some quantum noise in the histogram plot. The least busy backend should be the output. In this scenario, it was ibmq_quito."
   ]
  },
  {
   "cell_type": "code",
   "execution_count": 17,
   "id": "d5588cb6",
   "metadata": {},
   "outputs": [
    {
     "name": "stderr",
     "output_type": "stream",
     "text": [
      "ibmqfactory.load_account:WARNING:2022-03-12 20:15:36,792: Credentials are already in use. The existing account in the session will be replaced.\n"
     ]
    },
    {
     "name": "stdout",
     "output_type": "stream",
     "text": [
      "least busy backend:  ibmq_quito\n"
     ]
    }
   ],
   "source": [
    "provider = IBMQ.load_account()\n",
    "\n",
    "qcomp = least_busy(provider.backends(filters=lambda x: x.configuration().n_qubits >= 3 and\n",
    "                                   not x.configuration().simulator and x.status().operational==True))\n",
    "print(\"least busy backend: \", qcomp)"
   ]
  },
  {
   "cell_type": "markdown",
   "id": "3a8da1ec",
   "metadata": {},
   "source": [
    "#### Step 5.3: Run  the  circuit with  this  computer for 1200 shots  and plot  the  result  with  a  histogram. \n"
   ]
  },
  {
   "cell_type": "markdown",
   "id": "51805f8a",
   "metadata": {},
   "source": [
    "  We should expect that we will be placed in a queue. We apply a job-monitor to see the status of the job. The result should finish with \"has successfully run\" and then we can retrieve the results from the job that was completed."
   ]
  },
  {
   "cell_type": "code",
   "execution_count": 18,
   "id": "f3a0a34e",
   "metadata": {},
   "outputs": [
    {
     "name": "stdout",
     "output_type": "stream",
     "text": [
      "Job Status: job has successfully run\n"
     ]
    }
   ],
   "source": [
    "# Run the circuit with certain number of shots.\n",
    "from qiskit.tools import job_monitor\n",
    "job = execute(circuit, backend=qcomp, shots=1200)\n",
    "job_monitor(job, interval=3)\n",
    "qcomp_result = job.result()\n",
    "qcomp_counts = qcomp_result.get_counts(circuit)"
   ]
  },
  {
   "cell_type": "code",
   "execution_count": 19,
   "id": "938cd32c",
   "metadata": {},
   "outputs": [
    {
     "name": "stdout",
     "output_type": "stream",
     "text": [
      "{'00': 50, '01': 524, '10': 614, '11': 12}\n"
     ]
    },
    {
     "data": {
      "image/png": "[encoded data removed]",
      "text/plain": [
       "<Figure size 504x360 with 1 Axes>"
      ]
     },
     "execution_count": 19,
     "metadata": {},
     "output_type": "execute_result"
    }
   ],
   "source": [
    "print(qcomp_counts)\n",
    "plot_histogram(qcomp_counts)"
   ]
  },
  {
   "cell_type": "markdown",
   "id": "7acf4c36",
   "metadata": {},
   "source": [
    " As expected the results show that there is indeed some quantum noise being demonstrated by the output. The inputs '00' and '11' appear despite it not appearing in the first output of our results."
   ]
  },
  {
   "cell_type": "markdown",
   "id": "1654cd41",
   "metadata": {},
   "source": [
    "#### Step 5.4: Explain why  you see  ‘00’  and ‘11’  appear  in some  shots  in a  Markdown  cell. \n",
    "\n",
    "The qasm simulator which was called in task 4 does not include quantum noise. We noticed in the first histogram that 01 and 10 were generated with equal likelihood. And the values 00 and 11 were not possibilities. In reality quantum computers are still being developed. One of the issues in its current stage of developement is the concept of quantum noise. This is the reason why 00 and 11 appear in this histogram and does not appear in the first histogram. \n"
   ]
  }
 ],
 "metadata": {
  "kernelspec": {
   "display_name": "Python 3 (ipykernel)",
   "language": "python",
   "name": "python3"
  },
  "language_info": {
   "codemirror_mode": {
    "name": "ipython",
    "version": 3
   },
   "file_extension": ".py",
   "mimetype": "text/x-python",
   "name": "python",
   "nbconvert_exporter": "python",
   "pygments_lexer": "ipython3",
   "version": "3.9.7"
  }
 },
 "nbformat": 4,
 "nbformat_minor": 5
}
